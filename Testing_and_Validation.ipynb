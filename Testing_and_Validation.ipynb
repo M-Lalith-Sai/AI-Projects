{
  "nbformat": 4,
  "nbformat_minor": 0,
  "metadata": {
    "colab": {
      "provenance": []
    },
    "kernelspec": {
      "name": "python3",
      "display_name": "Python 3"
    },
    "language_info": {
      "name": "python"
    }
  },
  "cells": [
    {
      "cell_type": "code",
      "execution_count": 1,
      "metadata": {
        "colab": {
          "base_uri": "https://localhost:8080/"
        },
        "id": "U65Rng_2MmxU",
        "outputId": "06ad7657-6f11-4080-8075-24da94863a7d"
      },
      "outputs": [
        {
          "output_type": "stream",
          "name": "stdout",
          "text": [
            "   id  label                                              tweet\n",
            "0   1      0   @user when a father is dysfunctional and is s...\n",
            "1   2      0  @user @user thanks for #lyft credit i can't us...\n",
            "2   3      0                                bihday your majesty\n",
            "3   4      0  #model   i love u take with u all the time in ...\n",
            "4   5      0             factsguide: society now    #motivation\n"
          ]
        }
      ],
      "source": [
        "import pandas as pd\n",
        "\n",
        "url = \"https://raw.githubusercontent.com/dD2405/Twitter_Sentiment_Analysis/master/train.csv\"\n",
        "df = pd.read_csv(url)\n",
        "\n",
        "print(df.head())"
      ]
    },
    {
      "cell_type": "code",
      "source": [
        "print(df.info())\n",
        "print(df['label'].value_counts())"
      ],
      "metadata": {
        "colab": {
          "base_uri": "https://localhost:8080/"
        },
        "id": "ikoEUUzFMuUN",
        "outputId": "d2827979-e7ec-438f-a679-484085f02e7c"
      },
      "execution_count": 2,
      "outputs": [
        {
          "output_type": "stream",
          "name": "stdout",
          "text": [
            "<class 'pandas.core.frame.DataFrame'>\n",
            "RangeIndex: 31962 entries, 0 to 31961\n",
            "Data columns (total 3 columns):\n",
            " #   Column  Non-Null Count  Dtype \n",
            "---  ------  --------------  ----- \n",
            " 0   id      31962 non-null  int64 \n",
            " 1   label   31962 non-null  int64 \n",
            " 2   tweet   31962 non-null  object\n",
            "dtypes: int64(2), object(1)\n",
            "memory usage: 749.2+ KB\n",
            "None\n",
            "label\n",
            "0    29720\n",
            "1     2242\n",
            "Name: count, dtype: int64\n"
          ]
        }
      ]
    },
    {
      "cell_type": "code",
      "source": [
        "import re\n",
        "import string\n",
        "\n",
        "def clean_text(text):\n",
        "    text = text.lower()\n",
        "    text = re.sub(r'\\d+', '', text)\n",
        "    text = text.translate(str.maketrans('', '', string.punctuation))\n",
        "    return text\n",
        "\n",
        "df['clean_text'] = df['tweet'].apply(clean_text)\n",
        "\n",
        "print(df[['tweet', 'clean_text']].head())\n"
      ],
      "metadata": {
        "colab": {
          "base_uri": "https://localhost:8080/"
        },
        "id": "Wqt3wYURM1ky",
        "outputId": "212a083b-40ab-4b0f-def1-7275ec04ad40"
      },
      "execution_count": 3,
      "outputs": [
        {
          "output_type": "stream",
          "name": "stdout",
          "text": [
            "                                               tweet  \\\n",
            "0   @user when a father is dysfunctional and is s...   \n",
            "1  @user @user thanks for #lyft credit i can't us...   \n",
            "2                                bihday your majesty   \n",
            "3  #model   i love u take with u all the time in ...   \n",
            "4             factsguide: society now    #motivation   \n",
            "\n",
            "                                          clean_text  \n",
            "0   user when a father is dysfunctional and is so...  \n",
            "1  user user thanks for lyft credit i cant use ca...  \n",
            "2                                bihday your majesty  \n",
            "3  model   i love u take with u all the time in u...  \n",
            "4               factsguide society now    motivation  \n"
          ]
        }
      ]
    },
    {
      "cell_type": "code",
      "source": [
        "df['label'] = df['label'].map({'negative': 1, 'positive': 0})\n",
        "print(df.head())"
      ],
      "metadata": {
        "colab": {
          "base_uri": "https://localhost:8080/"
        },
        "id": "ykanIShDM-_d",
        "outputId": "b58d041f-99f3-443e-aa66-ad37d480bb43"
      },
      "execution_count": 4,
      "outputs": [
        {
          "output_type": "stream",
          "name": "stdout",
          "text": [
            "   id  label                                              tweet  \\\n",
            "0   1    NaN   @user when a father is dysfunctional and is s...   \n",
            "1   2    NaN  @user @user thanks for #lyft credit i can't us...   \n",
            "2   3    NaN                                bihday your majesty   \n",
            "3   4    NaN  #model   i love u take with u all the time in ...   \n",
            "4   5    NaN             factsguide: society now    #motivation   \n",
            "\n",
            "                                          clean_text  \n",
            "0   user when a father is dysfunctional and is so...  \n",
            "1  user user thanks for lyft credit i cant use ca...  \n",
            "2                                bihday your majesty  \n",
            "3  model   i love u take with u all the time in u...  \n",
            "4               factsguide society now    motivation  \n"
          ]
        }
      ]
    },
    {
      "cell_type": "code",
      "source": [
        "from sklearn.model_selection import train_test_split\n",
        "\n",
        "X_train, X_test, y_train, y_test = train_test_split(df['clean_text'], df['label'], test_size=0.2, random_state=42)\n",
        "\n",
        "print(\"Training samples:\", len(X_train))\n",
        "print(\"Testing samples:\", len(X_test))"
      ],
      "metadata": {
        "colab": {
          "base_uri": "https://localhost:8080/"
        },
        "id": "JJj3EftzNBPV",
        "outputId": "2864d9df-969d-47fb-8288-f57e23871457"
      },
      "execution_count": 5,
      "outputs": [
        {
          "output_type": "stream",
          "name": "stdout",
          "text": [
            "Training samples: 25569\n",
            "Testing samples: 6393\n"
          ]
        }
      ]
    },
    {
      "cell_type": "code",
      "source": [],
      "metadata": {
        "id": "9bJ0p1OVNC96"
      },
      "execution_count": null,
      "outputs": []
    }
  ]
}